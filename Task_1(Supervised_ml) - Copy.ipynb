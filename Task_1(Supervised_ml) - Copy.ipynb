{
  "nbformat": 4,
  "nbformat_minor": 0,
  "metadata": {
    "kernelspec": {
      "display_name": "Python 3",
      "language": "python",
      "name": "python3"
    },
    "language_info": {
      "codemirror_mode": {
        "name": "ipython",
        "version": 3
      },
      "file_extension": ".py",
      "mimetype": "text/x-python",
      "name": "python",
      "nbconvert_exporter": "python",
      "pygments_lexer": "ipython3",
      "version": "3.7.4"
    },
    "colab": {
      "name": "Supervised Machine Learning using Simple Linear Regression.ipynb",
      "provenance": []
    }
  },
  "cells": [
    {
      "cell_type": "markdown",
      "metadata": {
        "id": "FEHMvawIS9Lj",
        "colab_type": "text"
      },
      "source": [
        "\n",
        "\n",
        "```\n",
        "\n",
        "```\n",
        "\n",
        "## TASK 1\n",
        "\n",
        "This task is meant for exploration of Supervised Machine Learning using Linear Regression. In this regression task we will predict the percentage of marks that a student is expected to score based upon the number of hours they studied each day. This is a simple linear regression task as it involves just two variables.\n",
        "\n",
        "The data can be found here: http://bit.ly/w-data"
      ]
    },
    {
      "cell_type": "code",
      "metadata": {
        "id": "PPkDtXueS9Ll",
        "colab_type": "code",
        "colab": {
          "base_uri": "https://localhost:8080/",
          "height": 71
        },
        "outputId": "f4f55584-f570-49f8-ed01-ddf5718005e2"
      },
      "source": [
        "# importing the necessary libraries\n",
        "\n",
        "import numpy as np\n",
        "import pandas as pd\n",
        "import matplotlib.pyplot as plt\n",
        "import seaborn as sns\n",
        "%matplotlib inline"
      ],
      "execution_count": null,
      "outputs": [
        {
          "output_type": "stream",
          "text": [
            "/usr/local/lib/python3.6/dist-packages/statsmodels/tools/_testing.py:19: FutureWarning: pandas.util.testing is deprecated. Use the functions in the public API at pandas.testing instead.\n",
            "  import pandas.util.testing as tm\n"
          ],
          "name": "stderr"
        }
      ]
    },
    {
      "cell_type": "markdown",
      "metadata": {
        "id": "2NPCk3e6S9Lq",
        "colab_type": "text"
      },
      "source": [
        " \n",
        "Let us now read our data."
      ]
    },
    {
      "cell_type": "code",
      "metadata": {
        "id": "GznTuRxKS9Lq",
        "colab_type": "code",
        "colab": {}
      },
      "source": [
        "# reading the data into a pandas DataFrame\n",
        "\n",
        "student_data = pd.read_csv('http://bit.ly/w-data')"
      ],
      "execution_count": null,
      "outputs": []
    },
    {
      "cell_type": "code",
      "metadata": {
        "scrolled": true,
        "id": "XGZWWuOTS9Lu",
        "colab_type": "code",
        "colab": {
          "base_uri": "https://localhost:8080/",
          "height": 204
        },
        "outputId": "719fbf5b-d2ab-4d77-cd3e-63884bdbbc68"
      },
      "source": [
        "# checking the first five rows of our DataFrame\n",
        "\n",
        "student_data.head()"
      ],
      "execution_count": null,
      "outputs": [
        {
          "output_type": "execute_result",
          "data": {
            "text/html": [
              "<div>\n",
              "<style scoped>\n",
              "    .dataframe tbody tr th:only-of-type {\n",
              "        vertical-align: middle;\n",
              "    }\n",
              "\n",
              "    .dataframe tbody tr th {\n",
              "        vertical-align: top;\n",
              "    }\n",
              "\n",
              "    .dataframe thead th {\n",
              "        text-align: right;\n",
              "    }\n",
              "</style>\n",
              "<table border=\"1\" class=\"dataframe\">\n",
              "  <thead>\n",
              "    <tr style=\"text-align: right;\">\n",
              "      <th></th>\n",
              "      <th>Hours</th>\n",
              "      <th>Scores</th>\n",
              "    </tr>\n",
              "  </thead>\n",
              "  <tbody>\n",
              "    <tr>\n",
              "      <th>0</th>\n",
              "      <td>2.5</td>\n",
              "      <td>21</td>\n",
              "    </tr>\n",
              "    <tr>\n",
              "      <th>1</th>\n",
              "      <td>5.1</td>\n",
              "      <td>47</td>\n",
              "    </tr>\n",
              "    <tr>\n",
              "      <th>2</th>\n",
              "      <td>3.2</td>\n",
              "      <td>27</td>\n",
              "    </tr>\n",
              "    <tr>\n",
              "      <th>3</th>\n",
              "      <td>8.5</td>\n",
              "      <td>75</td>\n",
              "    </tr>\n",
              "    <tr>\n",
              "      <th>4</th>\n",
              "      <td>3.5</td>\n",
              "      <td>30</td>\n",
              "    </tr>\n",
              "  </tbody>\n",
              "</table>\n",
              "</div>"
            ],
            "text/plain": [
              "   Hours  Scores\n",
              "0    2.5      21\n",
              "1    5.1      47\n",
              "2    3.2      27\n",
              "3    8.5      75\n",
              "4    3.5      30"
            ]
          },
          "metadata": {
            "tags": []
          },
          "execution_count": 3
        }
      ]
    },
    {
      "cell_type": "markdown",
      "metadata": {
        "id": "isqbGDeAS9Lz",
        "colab_type": "text"
      },
      "source": [
        "## Exploratory Data Analysis"
      ]
    },
    {
      "cell_type": "code",
      "metadata": {
        "scrolled": true,
        "id": "lPwj1ff1S9L0",
        "colab_type": "code",
        "colab": {
          "base_uri": "https://localhost:8080/",
          "height": 68
        },
        "outputId": "924c3865-f45c-4611-9e35-1aad85a52642"
      },
      "source": [
        "# checking for missing values\n",
        "\n",
        "student_data.isnull().sum()"
      ],
      "execution_count": null,
      "outputs": [
        {
          "output_type": "execute_result",
          "data": {
            "text/plain": [
              "Hours     0\n",
              "Scores    0\n",
              "dtype: int64"
            ]
          },
          "metadata": {
            "tags": []
          },
          "execution_count": 4
        }
      ]
    },
    {
      "cell_type": "markdown",
      "metadata": {
        "id": "V8GP1bBAS9L3",
        "colab_type": "text"
      },
      "source": [
        "The dataset contains no missing values."
      ]
    },
    {
      "cell_type": "code",
      "metadata": {
        "id": "cmKAq018S9L4",
        "colab_type": "code",
        "colab": {
          "base_uri": "https://localhost:8080/",
          "height": 297
        },
        "outputId": "74428d3e-5a93-4af7-83c0-438a43de50dd"
      },
      "source": [
        "# obtaining some more statistical information regarding our Data set\n",
        "\n",
        "student_data.describe()"
      ],
      "execution_count": null,
      "outputs": [
        {
          "output_type": "execute_result",
          "data": {
            "text/html": [
              "<div>\n",
              "<style scoped>\n",
              "    .dataframe tbody tr th:only-of-type {\n",
              "        vertical-align: middle;\n",
              "    }\n",
              "\n",
              "    .dataframe tbody tr th {\n",
              "        vertical-align: top;\n",
              "    }\n",
              "\n",
              "    .dataframe thead th {\n",
              "        text-align: right;\n",
              "    }\n",
              "</style>\n",
              "<table border=\"1\" class=\"dataframe\">\n",
              "  <thead>\n",
              "    <tr style=\"text-align: right;\">\n",
              "      <th></th>\n",
              "      <th>Hours</th>\n",
              "      <th>Scores</th>\n",
              "    </tr>\n",
              "  </thead>\n",
              "  <tbody>\n",
              "    <tr>\n",
              "      <th>count</th>\n",
              "      <td>25.000000</td>\n",
              "      <td>25.000000</td>\n",
              "    </tr>\n",
              "    <tr>\n",
              "      <th>mean</th>\n",
              "      <td>5.012000</td>\n",
              "      <td>51.480000</td>\n",
              "    </tr>\n",
              "    <tr>\n",
              "      <th>std</th>\n",
              "      <td>2.525094</td>\n",
              "      <td>25.286887</td>\n",
              "    </tr>\n",
              "    <tr>\n",
              "      <th>min</th>\n",
              "      <td>1.100000</td>\n",
              "      <td>17.000000</td>\n",
              "    </tr>\n",
              "    <tr>\n",
              "      <th>25%</th>\n",
              "      <td>2.700000</td>\n",
              "      <td>30.000000</td>\n",
              "    </tr>\n",
              "    <tr>\n",
              "      <th>50%</th>\n",
              "      <td>4.800000</td>\n",
              "      <td>47.000000</td>\n",
              "    </tr>\n",
              "    <tr>\n",
              "      <th>75%</th>\n",
              "      <td>7.400000</td>\n",
              "      <td>75.000000</td>\n",
              "    </tr>\n",
              "    <tr>\n",
              "      <th>max</th>\n",
              "      <td>9.200000</td>\n",
              "      <td>95.000000</td>\n",
              "    </tr>\n",
              "  </tbody>\n",
              "</table>\n",
              "</div>"
            ],
            "text/plain": [
              "           Hours     Scores\n",
              "count  25.000000  25.000000\n",
              "mean    5.012000  51.480000\n",
              "std     2.525094  25.286887\n",
              "min     1.100000  17.000000\n",
              "25%     2.700000  30.000000\n",
              "50%     4.800000  47.000000\n",
              "75%     7.400000  75.000000\n",
              "max     9.200000  95.000000"
            ]
          },
          "metadata": {
            "tags": []
          },
          "execution_count": 5
        }
      ]
    },
    {
      "cell_type": "markdown",
      "metadata": {
        "id": "ox5lnR1HS9L7",
        "colab_type": "text"
      },
      "source": [
        " As the data set is small with no missing values and has only two variables it will be easy to visualize the reation between them using a scatter plot. "
      ]
    },
    {
      "cell_type": "code",
      "metadata": {
        "id": "Pny0CQZES9L8",
        "colab_type": "code",
        "colab": {
          "base_uri": "https://localhost:8080/",
          "height": 295
        },
        "outputId": "85b26df6-b5fd-4655-aff7-4a518a1f468c"
      },
      "source": [
        "# plotting the distribution of our data set.\n",
        "\n",
        "student_data.plot(x='Hours', y='Scores', style='o')\n",
        "plt.title('Hours Vs Scores')\n",
        "plt.xlabel('Number of Hours spent studying daily')\n",
        "plt.ylabel('Score obtained in %')\n",
        "plt.show()"
      ],
      "execution_count": null,
      "outputs": [
        {
          "output_type": "display_data",
          "data": {
            "image/png": "[encoded data removed]",
            "text/plain": [
              "<Figure size 432x288 with 1 Axes>"
            ]
          },
          "metadata": {
            "tags": [],
            "needs_background": "light"
          }
        }
      ]
    },
    {
      "cell_type": "markdown",
      "metadata": {
        "id": "elbZHIcTS9MA",
        "colab_type": "text"
      },
      "source": [
        "**From the above graph, we can clearly see that there is positive correlation between the number of hours spent studying and the scores obtained by the student.**\n",
        "\n",
        "Let us now try to plot a linear regression line on this data and see how it fits, visually."
      ]
    },
    {
      "cell_type": "code",
      "metadata": {
        "id": "q7hvDUzqS9MB",
        "colab_type": "code",
        "colab": {
          "base_uri": "https://localhost:8080/",
          "height": 295
        },
        "outputId": "db26ae48-bbb1-47d9-f13a-7ad95ab7d070"
      },
      "source": [
        "# plotting linear regression line on the data\n",
        "\n",
        "sns.regplot(x='Hours', y='Scores', data=student_data)\n",
        "plt.title('Hours Vs Scores')\n",
        "plt.xlabel('Number of Hours spent studying daily')\n",
        "plt.ylabel('Score obtained in %')\n",
        "plt.show()"
      ],
      "execution_count": null,
      "outputs": [
        {
          "output_type": "display_data",
          "data": {
            "image/png": "[encoded data removed]",
            "text/plain": [
              "<Figure size 432x288 with 1 Axes>"
            ]
          },
          "metadata": {
            "tags": [],
            "needs_background": "light"
          }
        }
      ]
    },
    {
      "cell_type": "markdown",
      "metadata": {
        "id": "twoaO8kvS9ME",
        "colab_type": "text"
      },
      "source": [
        "Now, let us try to fit a linear model on our data to obtain predictions. The model we will be using is Linear Regression from the scikit learn library.\n",
        "\n",
        "## Preparing the data"
      ]
    },
    {
      "cell_type": "code",
      "metadata": {
        "id": "J50gaxoBS9MG",
        "colab_type": "code",
        "colab": {}
      },
      "source": [
        "X = student_data.drop('Scores', axis=1)\n",
        "y = student_data['Scores']"
      ],
      "execution_count": null,
      "outputs": []
    },
    {
      "cell_type": "code",
      "metadata": {
        "id": "tvmI-XIhS9MJ",
        "colab_type": "code",
        "colab": {}
      },
      "source": [
        "# importing the required function and splitting our data\n",
        "\n",
        "from sklearn.model_selection import train_test_split\n",
        "X_train, X_test, y_train, y_test = train_test_split(X, y, test_size=0.25, random_state=42)"
      ],
      "execution_count": null,
      "outputs": []
    },
    {
      "cell_type": "markdown",
      "metadata": {
        "id": "xxZpevWiS9MM",
        "colab_type": "text"
      },
      "source": [
        "## Training the model\n",
        "\n",
        "Now that we have our training and testing data, we proceed to train our model. We import the required functions and train our model."
      ]
    },
    {
      "cell_type": "code",
      "metadata": {
        "id": "E7e8opk1S9MN",
        "colab_type": "code",
        "colab": {}
      },
      "source": [
        "from sklearn.linear_model import LinearRegression"
      ],
      "execution_count": null,
      "outputs": []
    },
    {
      "cell_type": "code",
      "metadata": {
        "id": "EdcjPHPSS9MR",
        "colab_type": "code",
        "colab": {
          "base_uri": "https://localhost:8080/",
          "height": 34
        },
        "outputId": "8ce7989a-1123-4065-b394-b3bd4358c72c"
      },
      "source": [
        "# training our model\n",
        "regressor = LinearRegression()\n",
        "regressor.fit(X_train, y_train)\n",
        "print(\"Success\")"
      ],
      "execution_count": null,
      "outputs": [
        {
          "output_type": "stream",
          "text": [
            "Success\n"
          ],
          "name": "stdout"
        }
      ]
    },
    {
      "cell_type": "markdown",
      "metadata": {
        "id": "c6qRu0P9S9MV",
        "colab_type": "text"
      },
      "source": [
        "Our model has been trained successfully. Now we try to look at the equation of our linear model and further make predictions and visualize our model."
      ]
    },
    {
      "cell_type": "code",
      "metadata": {
        "id": "niEmR8w7S9MV",
        "colab_type": "code",
        "colab": {
          "base_uri": "https://localhost:8080/",
          "height": 51
        },
        "outputId": "fdb69a1f-d4b4-41ec-bdd3-ee11b5c97f5f"
      },
      "source": [
        "# obtaining the intercept and coefficient of our linear model\n",
        "\n",
        "a = regressor.intercept_\n",
        "b = regressor.coef_\n",
        "print(\"The intercept is \", a)\n",
        "print(\"The coefficient is \", b[0])"
      ],
      "execution_count": null,
      "outputs": [
        {
          "output_type": "stream",
          "text": [
            "The intercept is  2.4803670915057623\n",
            "The coefficient is  9.714092192627643\n"
          ],
          "name": "stdout"
        }
      ]
    },
    {
      "cell_type": "code",
      "metadata": {
        "scrolled": true,
        "id": "LBluwOViS9MY",
        "colab_type": "code",
        "colab": {
          "base_uri": "https://localhost:8080/",
          "height": 51
        },
        "outputId": "c844545c-7975-4c30-ac44-e8310a3cb0ec"
      },
      "source": [
        "# equation \n",
        "print('The equation of our trained linear model is: ')\n",
        "print('y = ',a,' +',b[0],'X')"
      ],
      "execution_count": null,
      "outputs": [
        {
          "output_type": "stream",
          "text": [
            "The equation of our trained linear model is: \n",
            "y =  2.4803670915057623  + 9.714092192627643 X\n"
          ],
          "name": "stdout"
        }
      ]
    },
    {
      "cell_type": "markdown",
      "metadata": {
        "id": "gp90Cn2-S9Me",
        "colab_type": "text"
      },
      "source": [
        "## Making Predictions from the Model"
      ]
    },
    {
      "cell_type": "code",
      "metadata": {
        "id": "c-gtM-5PS9Me",
        "colab_type": "code",
        "colab": {}
      },
      "source": [
        "y_predictions = regressor.predict(X_test)"
      ],
      "execution_count": null,
      "outputs": []
    },
    {
      "cell_type": "code",
      "metadata": {
        "id": "SF4jaA8nS9Mh",
        "colab_type": "code",
        "colab": {
          "base_uri": "https://localhost:8080/",
          "height": 266
        },
        "outputId": "278283b5-d914-4bee-fa06-a5494a7a4147"
      },
      "source": [
        "# comparing the predicted values and actual values\n",
        "\n",
        "pd.DataFrame({'Actual' : y_test, 'Predictions': y_predictions}).reset_index(drop=True)\n"
      ],
      "execution_count": null,
      "outputs": [
        {
          "output_type": "execute_result",
          "data": {
            "text/html": [
              "<div>\n",
              "<style scoped>\n",
              "    .dataframe tbody tr th:only-of-type {\n",
              "        vertical-align: middle;\n",
              "    }\n",
              "\n",
              "    .dataframe tbody tr th {\n",
              "        vertical-align: top;\n",
              "    }\n",
              "\n",
              "    .dataframe thead th {\n",
              "        text-align: right;\n",
              "    }\n",
              "</style>\n",
              "<table border=\"1\" class=\"dataframe\">\n",
              "  <thead>\n",
              "    <tr style=\"text-align: right;\">\n",
              "      <th></th>\n",
              "      <th>Actual</th>\n",
              "      <th>Predictions</th>\n",
              "    </tr>\n",
              "  </thead>\n",
              "  <tbody>\n",
              "    <tr>\n",
              "      <th>0</th>\n",
              "      <td>81</td>\n",
              "      <td>83.107332</td>\n",
              "    </tr>\n",
              "    <tr>\n",
              "      <th>1</th>\n",
              "      <td>30</td>\n",
              "      <td>26.765598</td>\n",
              "    </tr>\n",
              "    <tr>\n",
              "      <th>2</th>\n",
              "      <td>21</td>\n",
              "      <td>26.765598</td>\n",
              "    </tr>\n",
              "    <tr>\n",
              "      <th>3</th>\n",
              "      <td>76</td>\n",
              "      <td>69.507603</td>\n",
              "    </tr>\n",
              "    <tr>\n",
              "      <th>4</th>\n",
              "      <td>62</td>\n",
              "      <td>59.793511</td>\n",
              "    </tr>\n",
              "    <tr>\n",
              "      <th>5</th>\n",
              "      <td>25</td>\n",
              "      <td>28.708416</td>\n",
              "    </tr>\n",
              "    <tr>\n",
              "      <th>6</th>\n",
              "      <td>42</td>\n",
              "      <td>34.536871</td>\n",
              "    </tr>\n",
              "  </tbody>\n",
              "</table>\n",
              "</div>"
            ],
            "text/plain": [
              "   Actual  Predictions\n",
              "0      81    83.107332\n",
              "1      30    26.765598\n",
              "2      21    26.765598\n",
              "3      76    69.507603\n",
              "4      62    59.793511\n",
              "5      25    28.708416\n",
              "6      42    34.536871"
            ]
          },
          "metadata": {
            "tags": []
          },
          "execution_count": 21
        }
      ]
    },
    {
      "cell_type": "markdown",
      "metadata": {
        "id": "5xgI01lSS9Mm",
        "colab_type": "text"
      },
      "source": [
        "**Visualization**"
      ]
    },
    {
      "cell_type": "code",
      "metadata": {
        "id": "ycunMnGaS9Mn",
        "colab_type": "code",
        "colab": {
          "base_uri": "https://localhost:8080/",
          "height": 295
        },
        "outputId": "ab05b325-703e-4463-eb90-2f6877eda772"
      },
      "source": [
        "# visualizing the predictions with respect to our data \n",
        "\n",
        "# for training data\n",
        "plt.scatter(X_train, y_train, label='Score')\n",
        "plt.plot(X_train, regressor.predict(X_train), color='r', label='Line of best fit')\n",
        "plt.xlabel('Number of Hours spent studying')\n",
        "plt.ylabel('Score obtained in %')\n",
        "plt.title('Best fit line on Training Data')\n",
        "plt.legend(frameon=False)\n",
        "plt.show()\n",
        "\n"
      ],
      "execution_count": null,
      "outputs": [
        {
          "output_type": "display_data",
          "data": {
            "image/png": "[encoded data removed]",
            "text/plain": [
              "<Figure size 432x288 with 1 Axes>"
            ]
          },
          "metadata": {
            "tags": [],
            "needs_background": "light"
          }
        }
      ]
    },
    {
      "cell_type": "code",
      "metadata": {
        "id": "IPIr6AylWJnt",
        "colab_type": "code",
        "colab": {
          "base_uri": "https://localhost:8080/",
          "height": 295
        },
        "outputId": "3b62bdd5-d60e-42fe-eb7c-5b29d1191a19"
      },
      "source": [
        "# for testing data\n",
        "plt.scatter(X_test, y_test, label='Score')\n",
        "plt.plot(X_test, y_predictions, color='red', label='Line of best fit')\n",
        "plt.xlabel('Number of Hours spent studying')\n",
        "plt.ylabel('Score obtained in %')\n",
        "plt.title('Best fit line on Testing Data')\n",
        "plt.legend(frameon=False)\n",
        "plt.show()"
      ],
      "execution_count": null,
      "outputs": [
        {
          "output_type": "display_data",
          "data": {
            "image/png": "[encoded data removed]",
            "text/plain": [
              "<Figure size 432x288 with 1 Axes>"
            ]
          },
          "metadata": {
            "tags": [],
            "needs_background": "light"
          }
        }
      ]
    },
    {
      "cell_type": "markdown",
      "metadata": {
        "id": "b1AxCp1pS9Mq",
        "colab_type": "text"
      },
      "source": [
        " **Errors**\n",
        "\n",
        "residual = y_test - y_predictions"
      ]
    },
    {
      "cell_type": "code",
      "metadata": {
        "scrolled": false,
        "id": "SBKfixiOS9Mr",
        "colab_type": "code",
        "colab": {
          "base_uri": "https://localhost:8080/",
          "height": 296
        },
        "outputId": "a421135d-4614-465f-8515-5a61c3ece3c3"
      },
      "source": [
        "sns.distplot((y_test - y_predictions), bins=5)"
      ],
      "execution_count": null,
      "outputs": [
        {
          "output_type": "execute_result",
          "data": {
            "text/plain": [
              "<matplotlib.axes._subplots.AxesSubplot at 0x7f26d838c470>"
            ]
          },
          "metadata": {
            "tags": []
          },
          "execution_count": 23
        },
        {
          "output_type": "display_data",
          "data": {
            "image/png": "[encoded data removed]",
            "text/plain": [
              "<Figure size 432x288 with 1 Axes>"
            ]
          },
          "metadata": {
            "tags": [],
            "needs_background": "light"
          }
        }
      ]
    },
    {
      "cell_type": "markdown",
      "metadata": {
        "id": "gAS3W6luS9Mu",
        "colab_type": "text"
      },
      "source": [
        "## Predicting for custom inputs\n",
        "\n",
        "**What will be predicted score if a student studies for 9.25 hrs in a day?**"
      ]
    },
    {
      "cell_type": "code",
      "metadata": {
        "id": "36s8pIsNS9Mu",
        "colab_type": "code",
        "colab": {
          "base_uri": "https://localhost:8080/",
          "height": 51
        },
        "outputId": "f9479e57-9e96-4888-a591-793cf8412b17"
      },
      "source": [
        "custom = np.array([9.25]).reshape(-1,1)\n",
        "print('Number of Hours Studied:', custom[0][0])\n",
        "print('Predicted Score in %: ', regressor.predict(custom)[0])"
      ],
      "execution_count": null,
      "outputs": [
        {
          "output_type": "stream",
          "text": [
            "Number of Hours Studied: 9.25\n",
            "Predicted Score in %:  92.33571987331146\n"
          ],
          "name": "stdout"
        }
      ]
    },
    {
      "cell_type": "markdown",
      "metadata": {
        "id": "uvbFst-8S9Mx",
        "colab_type": "text"
      },
      "source": [
        "## Evaluating the model"
      ]
    },
    {
      "cell_type": "code",
      "metadata": {
        "id": "o1aeUZB6S9My",
        "colab_type": "code",
        "colab": {}
      },
      "source": [
        "# importing the metrics function\n",
        "from sklearn import metrics"
      ],
      "execution_count": null,
      "outputs": []
    },
    {
      "cell_type": "code",
      "metadata": {
        "scrolled": true,
        "id": "IwEnmxjyS9M1",
        "colab_type": "code",
        "colab": {
          "base_uri": "https://localhost:8080/",
          "height": 68
        },
        "outputId": "99fd546f-c1d5-401a-8629-ead4311ba17d"
      },
      "source": [
        "print('Mean Absolute Error:', metrics.mean_absolute_error(y_test, y_predictions))\n",
        "print('Mean Squared Error:', metrics.mean_squared_error(y_test, y_predictions))\n",
        "print('Root Mean Squared Error:', np.sqrt(metrics.mean_squared_error(y_test, y_predictions)))"
      ],
      "execution_count": null,
      "outputs": [
        {
          "output_type": "stream",
          "text": [
            "Mean Absolute Error: 4.425394675156182\n",
            "Mean Squared Error: 23.51639603459522\n",
            "Root Mean Squared Error: 4.849370684387328\n"
          ],
          "name": "stdout"
        }
      ]
    },
    {
      "cell_type": "markdown",
      "metadata": {
        "id": "_HT9y7ieVVgz",
        "colab_type": "text"
      },
      "source": [
        "**Result:** Hence the predicted score when a student studies for 9.25 hrs in a day is 92.3357"
      ]
    }
  ]
}